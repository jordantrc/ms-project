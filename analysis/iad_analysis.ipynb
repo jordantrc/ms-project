{
 "cells": [
  {
   "cell_type": "code",
   "execution_count": 1,
   "metadata": {},
   "outputs": [],
   "source": [
    "import csv\n",
    "import numpy as np\n",
    "import os\n",
    "import math\n"
   ]
  },
  {
   "cell_type": "code",
   "execution_count": 2,
   "metadata": {},
   "outputs": [],
   "source": [
    "base_dir = \"D:/ms-project-data/UCF101/iad\"\n",
    "iad_train_file = \"train_100_4.csv\"\n",
    "iad_test_file = \"test_4.csv\"\n",
    "\n",
    "train = []\n",
    "test = []\n",
    "\n",
    "with open(os.path.join(base_dir, iad_train_file), newline='') as csv_fd:\n",
    "    csv_reader = csv.reader(csv_fd)\n",
    "    for row in csv_reader:\n",
    "        train.append(row)\n",
    "\n",
    "with open(os.path.join(base_dir, iad_test_file), newline='') as csv_fd:\n",
    "    csv_reader = csv.reader(csv_fd)\n",
    "    for row in csv_reader:\n",
    "        test.append(row)"
   ]
  },
  {
   "cell_type": "code",
   "execution_count": 3,
   "metadata": {},
   "outputs": [],
   "source": [
    "def list_to_numpy(data):\n",
    "    # create a numpy array of the features\n",
    "    x = np.zeros([len(train) - 1, len(train[0]) - 2])\n",
    "    y = np.zeros([len(train) - 1], np.uint8)\n",
    "\n",
    "    i = 0\n",
    "    for t in train[1:]:\n",
    "        j = 0\n",
    "        for f in t[2:]:\n",
    "            x[i][j] = float(f)\n",
    "            j += 1\n",
    "        y[i] = int(t[1])\n",
    "        i += 1\n",
    "    \n",
    "    return x, y\n",
    "\n",
    "train_x, train_y = list_to_numpy(train)\n",
    "test_x, test_y = list_to_numpy(test)\n"
   ]
  },
  {
   "cell_type": "code",
   "execution_count": 4,
   "metadata": {},
   "outputs": [
    {
     "name": "stdout",
     "output_type": "stream",
     "text": [
      "[0.         0.04575324 0.01370397 ... 0.06473395 0.         0.        ]\n",
      "0\n",
      "[0.         0.22664021 0.         ... 0.         0.         0.        ]\n",
      "0\n"
     ]
    }
   ],
   "source": [
    "print(train_x[1])\n",
    "print(train_y[1])\n",
    "print(test_x[0])\n",
    "print(test_y[0])"
   ]
  },
  {
   "cell_type": "code",
   "execution_count": 10,
   "metadata": {},
   "outputs": [
    {
     "name": "stdout",
     "output_type": "stream",
     "text": [
      "0.19996593023413262\n"
     ]
    }
   ],
   "source": [
    "# principal component analysis\n",
    "import math\n",
    "from sklearn.decomposition import IncrementalPCA\n",
    "\n",
    "ipca = IncrementalPCA(n_components=2, batch_size=1000)\n",
    "ipca.fit(train_x)\n",
    "train_x_ipca = ipca.transform(train_x)\n",
    "test_x_ipca = ipca.transform(test_x)\n",
    "#print(train_x_ipca.shape)\n",
    "#print(train_x_ipca[0])\n",
    "print(sum(ipca.explained_variance_ratio_))"
   ]
  },
  {
   "cell_type": "code",
   "execution_count": 11,
   "metadata": {},
   "outputs": [
    {
     "data": {
      "text/plain": [
       "0.013223304831974548"
      ]
     },
     "execution_count": 11,
     "metadata": {},
     "output_type": "execute_result"
    }
   ],
   "source": [
    "# multi-layer perceptron classifier\n",
    "from sklearn.neural_network import MLPClassifier\n",
    "classifier = MLPClassifier(alpha=1)\n",
    "classifier.fit(train_x_ipca, train_y)\n",
    "classifier.score(test_x_ipca, test_y)"
   ]
  },
  {
   "cell_type": "code",
   "execution_count": 12,
   "metadata": {},
   "outputs": [
    {
     "data": {
      "text/plain": [
       "0.2226983495724796"
      ]
     },
     "execution_count": 12,
     "metadata": {},
     "output_type": "execute_result"
    }
   ],
   "source": [
    "# k-nearest neighbors\n",
    "from sklearn.neighbors import KNeighborsClassifier\n",
    "\n",
    "classifier = KNeighborsClassifier(3)\n",
    "classifier.fit(train_x_ipca, train_y)\n",
    "classifier.score(test_x_ipca, test_y)"
   ]
  },
  {
   "cell_type": "code",
   "execution_count": null,
   "metadata": {},
   "outputs": [],
   "source": []
  }
 ],
 "metadata": {
  "kernelspec": {
   "display_name": "Python 3",
   "language": "python",
   "name": "python3"
  },
  "language_info": {
   "codemirror_mode": {
    "name": "ipython",
    "version": 3
   },
   "file_extension": ".py",
   "mimetype": "text/x-python",
   "name": "python",
   "nbconvert_exporter": "python",
   "pygments_lexer": "ipython3",
   "version": "3.6.5"
  }
 },
 "nbformat": 4,
 "nbformat_minor": 2
}
